{
 "cells": [
  {
   "cell_type": "markdown",
   "id": "03fceba6",
   "metadata": {},
   "source": [
    "Step 1: Install Required Libraries"
   ]
  },
  {
   "cell_type": "markdown",
   "id": "bf951aff",
   "metadata": {},
   "source": [
    "libraries: langchain, huggingface_hub, faiss-cpu, PyPDF2 (or pdfplumber, depending on our preference)"
   ]
  },
  {
   "cell_type": "code",
   "execution_count": 1,
   "id": "687fe89a",
   "metadata": {},
   "outputs": [
    {
     "name": "stdout",
     "output_type": "stream",
     "text": [
      "Requirement already satisfied: transformers in c:\\users\\hp\\appdata\\local\\programs\\python\\python39\\lib\\site-packages (4.51.3)\n",
      "Requirement already satisfied: sentence-transformers in c:\\users\\hp\\appdata\\local\\programs\\python\\python39\\lib\\site-packages (4.1.0)\n",
      "Requirement already satisfied: faiss-cpu in c:\\users\\hp\\appdata\\local\\programs\\python\\python39\\lib\\site-packages (1.11.0)\n",
      "Requirement already satisfied: PyPDF2 in c:\\users\\hp\\appdata\\local\\programs\\python\\python39\\lib\\site-packages (3.0.1)\n",
      "Requirement already satisfied: langchain in c:\\users\\hp\\appdata\\local\\programs\\python\\python39\\lib\\site-packages (0.3.25)\n",
      "Requirement already satisfied: filelock in c:\\users\\hp\\appdata\\local\\programs\\python\\python39\\lib\\site-packages (from transformers) (3.18.0)\n",
      "Requirement already satisfied: huggingface-hub<1.0,>=0.30.0 in c:\\users\\hp\\appdata\\local\\programs\\python\\python39\\lib\\site-packages (from transformers) (0.30.2)\n",
      "Requirement already satisfied: numpy>=1.17 in c:\\users\\hp\\appdata\\roaming\\python\\python39\\site-packages (from transformers) (1.26.4)\n",
      "Requirement already satisfied: packaging>=20.0 in c:\\users\\hp\\appdata\\roaming\\python\\python39\\site-packages (from transformers) (24.0)\n",
      "Requirement already satisfied: pyyaml>=5.1 in c:\\users\\hp\\appdata\\roaming\\python\\python39\\site-packages (from transformers) (6.0.1)\n",
      "Requirement already satisfied: regex!=2019.12.17 in c:\\users\\hp\\appdata\\local\\programs\\python\\python39\\lib\\site-packages (from transformers) (2024.7.24)\n",
      "Requirement already satisfied: requests in c:\\users\\hp\\appdata\\roaming\\python\\python39\\site-packages (from transformers) (2.31.0)\n",
      "Requirement already satisfied: tokenizers<0.22,>=0.21 in c:\\users\\hp\\appdata\\local\\programs\\python\\python39\\lib\\site-packages (from transformers) (0.21.1)\n",
      "Requirement already satisfied: safetensors>=0.4.3 in c:\\users\\hp\\appdata\\local\\programs\\python\\python39\\lib\\site-packages (from transformers) (0.5.3)\n",
      "Requirement already satisfied: tqdm>=4.27 in c:\\users\\hp\\appdata\\local\\programs\\python\\python39\\lib\\site-packages (from transformers) (4.66.5)\n",
      "Requirement already satisfied: fsspec>=2023.5.0 in c:\\users\\hp\\appdata\\local\\programs\\python\\python39\\lib\\site-packages (from huggingface-hub<1.0,>=0.30.0->transformers) (2025.3.2)\n",
      "Requirement already satisfied: typing-extensions>=3.7.4.3 in c:\\users\\hp\\appdata\\local\\programs\\python\\python39\\lib\\site-packages (from huggingface-hub<1.0,>=0.30.0->transformers) (4.13.2)\n",
      "Requirement already satisfied: torch>=1.11.0 in c:\\users\\hp\\appdata\\local\\programs\\python\\python39\\lib\\site-packages (from sentence-transformers) (2.7.0)\n",
      "Requirement already satisfied: scikit-learn in c:\\users\\hp\\appdata\\local\\programs\\python\\python39\\lib\\site-packages (from sentence-transformers) (1.5.1)\n",
      "Requirement already satisfied: scipy in c:\\users\\hp\\appdata\\local\\programs\\python\\python39\\lib\\site-packages (from sentence-transformers) (1.13.1)\n",
      "Requirement already satisfied: Pillow in c:\\users\\hp\\appdata\\roaming\\python\\python39\\site-packages (from sentence-transformers) (10.3.0)\n",
      "Requirement already satisfied: langchain-core<1.0.0,>=0.3.58 in c:\\users\\hp\\appdata\\local\\programs\\python\\python39\\lib\\site-packages (from langchain) (0.3.58)\n",
      "Requirement already satisfied: langchain-text-splitters<1.0.0,>=0.3.8 in c:\\users\\hp\\appdata\\local\\programs\\python\\python39\\lib\\site-packages (from langchain) (0.3.8)\n",
      "Requirement already satisfied: langsmith<0.4,>=0.1.17 in c:\\users\\hp\\appdata\\local\\programs\\python\\python39\\lib\\site-packages (from langchain) (0.3.42)\n",
      "Requirement already satisfied: pydantic<3.0.0,>=2.7.4 in c:\\users\\hp\\appdata\\local\\programs\\python\\python39\\lib\\site-packages (from langchain) (2.11.4)\n",
      "Requirement already satisfied: SQLAlchemy<3,>=1.4 in c:\\users\\hp\\appdata\\local\\programs\\python\\python39\\lib\\site-packages (from langchain) (2.0.40)\n",
      "Requirement already satisfied: async-timeout<5.0.0,>=4.0.0 in c:\\users\\hp\\appdata\\local\\programs\\python\\python39\\lib\\site-packages (from langchain) (4.0.3)\n",
      "Requirement already satisfied: tenacity!=8.4.0,<10.0.0,>=8.1.0 in c:\\users\\hp\\appdata\\local\\programs\\python\\python39\\lib\\site-packages (from langchain-core<1.0.0,>=0.3.58->langchain) (9.1.2)\n",
      "Requirement already satisfied: jsonpatch<2.0,>=1.33 in c:\\users\\hp\\appdata\\local\\programs\\python\\python39\\lib\\site-packages (from langchain-core<1.0.0,>=0.3.58->langchain) (1.33)\n",
      "Requirement already satisfied: jsonpointer>=1.9 in c:\\users\\hp\\appdata\\local\\programs\\python\\python39\\lib\\site-packages (from jsonpatch<2.0,>=1.33->langchain-core<1.0.0,>=0.3.58->langchain) (3.0.0)\n",
      "Requirement already satisfied: httpx<1,>=0.23.0 in c:\\users\\hp\\appdata\\local\\programs\\python\\python39\\lib\\site-packages (from langsmith<0.4,>=0.1.17->langchain) (0.28.1)\n",
      "Requirement already satisfied: orjson<4.0.0,>=3.9.14 in c:\\users\\hp\\appdata\\local\\programs\\python\\python39\\lib\\site-packages (from langsmith<0.4,>=0.1.17->langchain) (3.10.18)\n",
      "Requirement already satisfied: requests-toolbelt<2.0.0,>=1.0.0 in c:\\users\\hp\\appdata\\local\\programs\\python\\python39\\lib\\site-packages (from langsmith<0.4,>=0.1.17->langchain) (1.0.0)\n",
      "Requirement already satisfied: zstandard<0.24.0,>=0.23.0 in c:\\users\\hp\\appdata\\local\\programs\\python\\python39\\lib\\site-packages (from langsmith<0.4,>=0.1.17->langchain) (0.23.0)\n",
      "Requirement already satisfied: anyio in c:\\users\\hp\\appdata\\local\\programs\\python\\python39\\lib\\site-packages (from httpx<1,>=0.23.0->langsmith<0.4,>=0.1.17->langchain) (4.9.0)\n",
      "Requirement already satisfied: certifi in c:\\users\\hp\\appdata\\roaming\\python\\python39\\site-packages (from httpx<1,>=0.23.0->langsmith<0.4,>=0.1.17->langchain) (2024.2.2)\n",
      "Requirement already satisfied: httpcore==1.* in c:\\users\\hp\\appdata\\local\\programs\\python\\python39\\lib\\site-packages (from httpx<1,>=0.23.0->langsmith<0.4,>=0.1.17->langchain) (1.0.9)\n",
      "Requirement already satisfied: idna in c:\\users\\hp\\appdata\\roaming\\python\\python39\\site-packages (from httpx<1,>=0.23.0->langsmith<0.4,>=0.1.17->langchain) (3.7)\n",
      "Requirement already satisfied: h11>=0.16 in c:\\users\\hp\\appdata\\local\\programs\\python\\python39\\lib\\site-packages (from httpcore==1.*->httpx<1,>=0.23.0->langsmith<0.4,>=0.1.17->langchain) (0.16.0)\n",
      "Requirement already satisfied: annotated-types>=0.6.0 in c:\\users\\hp\\appdata\\local\\programs\\python\\python39\\lib\\site-packages (from pydantic<3.0.0,>=2.7.4->langchain) (0.7.0)\n",
      "Requirement already satisfied: pydantic-core==2.33.2 in c:\\users\\hp\\appdata\\local\\programs\\python\\python39\\lib\\site-packages (from pydantic<3.0.0,>=2.7.4->langchain) (2.33.2)\n",
      "Requirement already satisfied: typing-inspection>=0.4.0 in c:\\users\\hp\\appdata\\local\\programs\\python\\python39\\lib\\site-packages (from pydantic<3.0.0,>=2.7.4->langchain) (0.4.0)\n",
      "Requirement already satisfied: charset-normalizer<4,>=2 in c:\\users\\hp\\appdata\\roaming\\python\\python39\\site-packages (from requests->transformers) (3.3.2)\n",
      "Requirement already satisfied: urllib3<3,>=1.21.1 in c:\\users\\hp\\appdata\\roaming\\python\\python39\\site-packages (from requests->transformers) (2.2.1)\n",
      "Requirement already satisfied: greenlet>=1 in c:\\users\\hp\\appdata\\local\\programs\\python\\python39\\lib\\site-packages (from SQLAlchemy<3,>=1.4->langchain) (3.2.1)\n",
      "Requirement already satisfied: sympy>=1.13.3 in c:\\users\\hp\\appdata\\local\\programs\\python\\python39\\lib\\site-packages (from torch>=1.11.0->sentence-transformers) (1.13.3)\n",
      "Requirement already satisfied: networkx in c:\\users\\hp\\appdata\\local\\programs\\python\\python39\\lib\\site-packages (from torch>=1.11.0->sentence-transformers) (3.2.1)\n",
      "Requirement already satisfied: jinja2 in c:\\users\\hp\\appdata\\roaming\\python\\python39\\site-packages (from torch>=1.11.0->sentence-transformers) (3.1.3)\n",
      "Requirement already satisfied: mpmath<1.4,>=1.1.0 in c:\\users\\hp\\appdata\\local\\programs\\python\\python39\\lib\\site-packages (from sympy>=1.13.3->torch>=1.11.0->sentence-transformers) (1.3.0)\n",
      "Requirement already satisfied: colorama in c:\\users\\hp\\appdata\\roaming\\python\\python39\\site-packages (from tqdm>=4.27->transformers) (0.4.6)\n",
      "Requirement already satisfied: exceptiongroup>=1.0.2 in c:\\users\\hp\\appdata\\roaming\\python\\python39\\site-packages (from anyio->httpx<1,>=0.23.0->langsmith<0.4,>=0.1.17->langchain) (1.2.2)\n",
      "Requirement already satisfied: sniffio>=1.1 in c:\\users\\hp\\appdata\\local\\programs\\python\\python39\\lib\\site-packages (from anyio->httpx<1,>=0.23.0->langsmith<0.4,>=0.1.17->langchain) (1.3.1)\n",
      "Requirement already satisfied: MarkupSafe>=2.0 in c:\\users\\hp\\appdata\\roaming\\python\\python39\\site-packages (from jinja2->torch>=1.11.0->sentence-transformers) (2.1.5)\n",
      "Requirement already satisfied: joblib>=1.2.0 in c:\\users\\hp\\appdata\\local\\programs\\python\\python39\\lib\\site-packages (from scikit-learn->sentence-transformers) (1.4.2)\n",
      "Requirement already satisfied: threadpoolctl>=3.1.0 in c:\\users\\hp\\appdata\\local\\programs\\python\\python39\\lib\\site-packages (from scikit-learn->sentence-transformers) (3.5.0)\n",
      "Note: you may need to restart the kernel to use updated packages.\n"
     ]
    },
    {
     "name": "stderr",
     "output_type": "stream",
     "text": [
      "WARNING: Ignoring invalid distribution -pencv-python (c:\\users\\hp\\appdata\\roaming\\python\\python39\\site-packages)\n",
      "WARNING: Ignoring invalid distribution -pencv-python (c:\\users\\hp\\appdata\\roaming\\python\\python39\\site-packages)\n",
      "WARNING: Ignoring invalid distribution -pencv-python (c:\\users\\hp\\appdata\\roaming\\python\\python39\\site-packages)\n",
      "WARNING: Ignoring invalid distribution -pencv-python (c:\\users\\hp\\appdata\\roaming\\python\\python39\\site-packages)\n",
      "WARNING: Ignoring invalid distribution -pencv-python (c:\\users\\hp\\appdata\\roaming\\python\\python39\\site-packages)\n"
     ]
    }
   ],
   "source": [
    "pip install transformers sentence-transformers faiss-cpu PyPDF2 langchain"
   ]
  },
  {
   "cell_type": "markdown",
   "id": "3459aa71",
   "metadata": {},
   "source": [
    "Step 2: Load PDF with LangChain\n",
    "\n",
    "We’ll use LangChain’s built-in function of PyPDFLoader to ingest a sample document. I used a pdf for training the model."
   ]
  },
  {
   "cell_type": "code",
   "execution_count": 2,
   "id": "8dc579ab",
   "metadata": {},
   "outputs": [],
   "source": [
    "pdf_paths = [\n",
    "    \"D:\\\\Neeru\\\\Python & DataScience\\\\Live projects\\\\LLM-powered Q&A assistant for retinal diseases\\\\RP_pdfs\\\\RPDoc1.pdf\",\n",
    "    \"D:\\\\Neeru\\\\Python & DataScience\\\\Live projects\\\\LLM-powered Q&A assistant for retinal diseases\\\\RP_pdfs\\\\RPDoc2.pdf\",\n",
    "    \"D:\\\\Neeru\\\\Python & DataScience\\\\Live projects\\\\LLM-powered Q&A assistant for retinal diseases\\\\RP_pdfs\\\\RPDoc3.pdf\",\n",
    "    \"D:\\\\Neeru\\\\Python & DataScience\\\\Live projects\\\\LLM-powered Q&A assistant for retinal diseases\\\\RP_pdfs\\\\RPDoc4.pdf\",\n",
    "    \"D:\\\\Neeru\\\\Python & DataScience\\\\Live projects\\\\LLM-powered Q&A assistant for retinal diseases\\\\RP_pdfs\\\\RPDoc5.pdf\",\n",
    "    \"D:\\\\Neeru\\\\Python & DataScience\\\\Live projects\\\\LLM-powered Q&A assistant for retinal diseases\\\\RP_pdfs\\\\RPDoc6.pdf\",\n",
    "    \"D:\\\\Neeru\\\\Python & DataScience\\\\Live projects\\\\LLM-powered Q&A assistant for retinal diseases\\\\RP_pdfs\\\\RPDoc7.pdf\",\n",
    "    \"D:\\\\Neeru\\\\Python & DataScience\\\\Live projects\\\\LLM-powered Q&A assistant for retinal diseases\\\\RP_pdfs\\\\RPDoc8.pdf\",\n",
    "    \"D:\\\\Neeru\\\\Python & DataScience\\\\Live projects\\\\LLM-powered Q&A assistant for retinal diseases\\\\RP_pdfs\\\\RPDoc9.pdf\",\n",
    "    \"D:\\\\Neeru\\\\Python & DataScience\\\\Live projects\\\\LLM-powered Q&A assistant for retinal diseases\\\\RP_pdfs\\\\RPDoc10.pdf\",\n",
    "    \"D:\\\\Neeru\\\\Python & DataScience\\\\Live projects\\\\LLM-powered Q&A assistant for retinal diseases\\\\RP_pdfs\\\\RPDoc11.pdf\",\n",
    "    \"D:\\\\Neeru\\\\Python & DataScience\\\\Live projects\\\\LLM-powered Q&A assistant for retinal diseases\\\\RP_pdfs\\\\RPDoc12.pdf\",\n",
    "    \"D:\\\\Neeru\\\\Python & DataScience\\\\Live projects\\\\LLM-powered Q&A assistant for retinal diseases\\\\RP_pdfs\\\\RPDoc13.pdf\",\n",
    "    \"D:\\\\Neeru\\\\Python & DataScience\\\\Live projects\\\\LLM-powered Q&A assistant for retinal diseases\\\\RP_pdfs\\\\RPDoc14.pdf\",\n",
    "    \"D:\\\\Neeru\\\\Python & DataScience\\\\Live projects\\\\LLM-powered Q&A assistant for retinal diseases\\\\RP_pdfs\\\\RPDoc15.pdf\",\n",
    "    \"D:\\\\Neeru\\\\Python & DataScience\\\\Live projects\\\\LLM-powered Q&A assistant for retinal diseases\\\\RP_pdfs\\\\RPDoc16.pdf\",\n",
    "    \"D:\\\\Neeru\\\\Python & DataScience\\\\Live projects\\\\LLM-powered Q&A assistant for retinal diseases\\\\RP_pdfs\\\\RPDoc17.pdf\",\n",
    "    \"D:\\\\Neeru\\\\Python & DataScience\\\\Live projects\\\\LLM-powered Q&A assistant for retinal diseases\\\\RP_pdfs\\\\RPDoc18.pdf\",\n",
    "    \"D:\\\\Neeru\\\\Python & DataScience\\\\Live projects\\\\LLM-powered Q&A assistant for retinal diseases\\\\RP_pdfs\\\\RPDoc19.pdf\",\n",
    "    \"D:\\\\Neeru\\\\Python & DataScience\\\\Live projects\\\\LLM-powered Q&A assistant for retinal diseases\\\\RP_pdfs\\\\RPDoc20.pdf\",\n",
    "    \"D:\\\\Neeru\\\\Python & DataScience\\\\Live projects\\\\LLM-powered Q&A assistant for retinal diseases\\\\RP_pdfs\\\\RPDoc21.pdf\",\n",
    "    \"D:\\\\Neeru\\\\Python & DataScience\\\\Live projects\\\\LLM-powered Q&A assistant for retinal diseases\\\\RP_pdfs\\\\RPDoc22.pdf\",\n",
    "    \"D:\\\\Neeru\\\\Python & DataScience\\\\Live projects\\\\LLM-powered Q&A assistant for retinal diseases\\\\RP_pdfs\\\\RPDoc23.pdf\",\n",
    "    \"D:\\\\Neeru\\\\Python & DataScience\\\\Live projects\\\\LLM-powered Q&A assistant for retinal diseases\\\\RP_pdfs\\\\RPDoc24.pdf\",\n",
    "    \"D:\\\\Neeru\\\\Python & DataScience\\\\Live projects\\\\LLM-powered Q&A assistant for retinal diseases\\\\RP_pdfs\\\\RPDoc25.pdf\",\n",
    "    \"D:\\\\Neeru\\\\Python & DataScience\\\\Live projects\\\\LLM-powered Q&A assistant for retinal diseases\\\\RP_pdfs\\\\RPDoc26.pdf\",\n",
    "    \"D:\\\\Neeru\\\\Python & DataScience\\\\Live projects\\\\LLM-powered Q&A assistant for retinal diseases\\\\RP_pdfs\\\\RPDoc27.pdf\",\n",
    "    \"D:\\\\Neeru\\\\Python & DataScience\\\\Live projects\\\\LLM-powered Q&A assistant for retinal diseases\\\\RP_pdfs\\\\RPDoc28.pdf\",\n",
    "    \"D:\\\\Neeru\\\\Python & DataScience\\\\Live projects\\\\LLM-powered Q&A assistant for retinal diseases\\\\RP_pdfs\\\\RPDoc29.pdf\",\n",
    "    \"D:\\\\Neeru\\\\Python & DataScience\\\\Live projects\\\\LLM-powered Q&A assistant for retinal diseases\\\\RP_pdfs\\\\RPDoc30.pdf\"\n",
    "     \n",
    "]\n",
    "\n",
    "from langchain.document_loaders import PyPDFLoader\n",
    "\n",
    "documents = []\n",
    "\n",
    "for path in pdf_paths:\n",
    "    loader = PyPDFLoader(path)\n",
    "    documents.extend(loader.load())\n"
   ]
  },
  {
   "cell_type": "code",
   "execution_count": 3,
   "id": "50f01f1e",
   "metadata": {},
   "outputs": [],
   "source": [
    "# from langchain.document_loaders import PyPDFLoader\n",
    "\n",
    "# loader = PyPDFLoader(\"D:\\\\Neeru\\\\Python & DataScience\\\\Live projects\\\\RPDoc1.pdf\")\n",
    "# documents = loader.load()"
   ]
  },
  {
   "cell_type": "markdown",
   "id": "6e1c8786",
   "metadata": {},
   "source": [
    "You should now have a list of text chunks from the PDF. LangChain simply splits the data for you, no messy tokenizing needed"
   ]
  },
  {
   "cell_type": "markdown",
   "id": "e27583b3",
   "metadata": {},
   "source": [
    "Step 3: Embed with Sentence Transformers\n",
    "\n",
    "Now let’s turn those text chunks into vectors using Hugging Face’s MiniLM model. This model is fast, free, and solid for most Q&A setups."
   ]
  },
  {
   "cell_type": "code",
   "execution_count": 4,
   "id": "f91f8fbe",
   "metadata": {},
   "outputs": [
    {
     "name": "stderr",
     "output_type": "stream",
     "text": [
      "C:\\Users\\hp\\AppData\\Local\\Temp\\ipykernel_26108\\1248739731.py:3: LangChainDeprecationWarning: The class `HuggingFaceEmbeddings` was deprecated in LangChain 0.2.2 and will be removed in 1.0. An updated version of the class exists in the :class:`~langchain-huggingface package and should be used instead. To use it run `pip install -U :class:`~langchain-huggingface` and import as `from :class:`~langchain_huggingface import HuggingFaceEmbeddings``.\n",
      "  embeddings = HuggingFaceEmbeddings(model_name=\"all-MiniLM-L6-v2\")\n",
      "c:\\Users\\hp\\AppData\\Local\\Programs\\Python\\Python39\\lib\\site-packages\\tqdm\\auto.py:21: TqdmWarning: IProgress not found. Please update jupyter and ipywidgets. See https://ipywidgets.readthedocs.io/en/stable/user_install.html\n",
      "  from .autonotebook import tqdm as notebook_tqdm\n"
     ]
    }
   ],
   "source": [
    "from langchain.embeddings import HuggingFaceEmbeddings\n",
    "\n",
    "embeddings = HuggingFaceEmbeddings(model_name=\"all-MiniLM-L6-v2\")"
   ]
  },
  {
   "cell_type": "markdown",
   "id": "c75e3ecf",
   "metadata": {},
   "source": [
    "Step 4: Build Vector Store (FAISS)\n",
    "\n",
    "FAISS lets you do fast similarity searches. We’ll store our embedded documents here."
   ]
  },
  {
   "cell_type": "code",
   "execution_count": 5,
   "id": "e758cf79",
   "metadata": {},
   "outputs": [],
   "source": [
    "from langchain.vectorstores import FAISS\n",
    "\n",
    "vector_store = FAISS.from_documents(documents, embeddings)\n",
    "retriever = vector_store.as_retriever()\n"
   ]
  },
  {
   "cell_type": "markdown",
   "id": "4713693e",
   "metadata": {},
   "source": [
    "You got a search index for your PDF."
   ]
  },
  {
   "cell_type": "markdown",
   "id": "4c89a454",
   "metadata": {},
   "source": [
    "Step 5: Load Local LLM (e.g., Flan-T5 or GPT2)"
   ]
  },
  {
   "cell_type": "code",
   "execution_count": 6,
   "id": "d70c4710",
   "metadata": {},
   "outputs": [],
   "source": [
    "from transformers import AutoTokenizer, AutoModelForSeq2SeqLM, pipeline\n",
    "from langchain.llms.base import LLM\n",
    "from typing import Optional, List\n",
    "\n",
    "class LocalLLM(LLM):\n",
    "    model_name: str = \"google/flan-t5-base\"\n",
    "    pipeline: Optional[object] = None\n",
    "\n",
    "    def __init__(self, model_name: str = \"google/flan-t5-base\"):\n",
    "        super().__init__()\n",
    "        tokenizer = AutoTokenizer.from_pretrained(model_name)\n",
    "        model = AutoModelForSeq2SeqLM.from_pretrained(model_name)\n",
    "        self.pipeline = pipeline(\"text2text-generation\", model=model, tokenizer=tokenizer)\n",
    "        self.model_name = model_name\n",
    "\n",
    "    def _call(self, prompt: str, stop: Optional[List[str]] = None) -> str:\n",
    "        output = self.pipeline(prompt, max_new_tokens=300)\n",
    "        return output[0]['generated_text']\n",
    "\n",
    "    @property\n",
    "    def _llm_type(self) -> str:\n",
    "        return \"custom-local-llm\"\n"
   ]
  },
  {
   "cell_type": "markdown",
   "id": "25f5b856",
   "metadata": {},
   "source": [
    " step 6: Initialize the LLM"
   ]
  },
  {
   "cell_type": "code",
   "execution_count": 7,
   "id": "f1520d4b",
   "metadata": {},
   "outputs": [
    {
     "name": "stderr",
     "output_type": "stream",
     "text": [
      "Device set to use cpu\n"
     ]
    }
   ],
   "source": [
    "llm = LocalLLM(\"google/flan-t5-base\")  # or flan-t5-small if CPU is used\n"
   ]
  },
  {
   "cell_type": "markdown",
   "id": "25d2ee74",
   "metadata": {},
   "source": [
    "7. Create the RetrievalQA Chain"
   ]
  },
  {
   "cell_type": "code",
   "execution_count": 8,
   "id": "2af3c50d",
   "metadata": {},
   "outputs": [],
   "source": [
    "from langchain.chains import RetrievalQA\n",
    "\n",
    "qa_chain = RetrievalQA.from_chain_type(\n",
    "    llm=llm,\n",
    "    chain_type=\"map_reduce\",  # instead of \"stuff\"\n",
    "    retriever=retriever\n",
    ")\n"
   ]
  },
  {
   "cell_type": "markdown",
   "id": "6bf6c58c",
   "metadata": {},
   "source": [
    "8. Ask a Question"
   ]
  },
  {
   "cell_type": "code",
   "execution_count": 9,
   "id": "d89993b9",
   "metadata": {},
   "outputs": [
    {
     "name": "stderr",
     "output_type": "stream",
     "text": [
      "C:\\Users\\hp\\AppData\\Local\\Temp\\ipykernel_26108\\737351649.py:4: LangChainDeprecationWarning: The method `Chain.run` was deprecated in langchain 0.1.0 and will be removed in 1.0. Use :meth:`~invoke` instead.\n",
      "  response = qa_chain.run(query)\n",
      "Token indices sequence length is longer than the specified maximum sequence length for this model (5448 > 512). Running this sequence through the model will result in indexing errors\n",
      "Token indices sequence length is longer than the specified maximum sequence length for this model (1493 > 1024). Running this sequence through the model will result in indexing errors\n"
     ]
    },
    {
     "name": "stdout",
     "output_type": "stream",
     "text": [
      "Q: advancements\n",
      "A: PLoS One 7, e45798. A. Anasagasti et al. / Experimental Eye Research 116 (2013) 386e394394\n"
     ]
    }
   ],
   "source": [
    "# Ask question based on your mood\n",
    "query = input(\"Ask your question: \")\n",
    "# Get answer from QA chain\n",
    "response = qa_chain.run(query)\n",
    "# Print the Q&A\n",
    "print(\"Q:\", query)\n",
    "print(\"A:\", response)\n",
    "# Save to file\n",
    "with open(\"qa_log.txt\", \"a\") as file:\n",
    "    file.write(f\"Q: {query}\\nA: {response}\\n\\n\")"
   ]
  }
 ],
 "metadata": {
  "kernelspec": {
   "display_name": "Python 3",
   "language": "python",
   "name": "python3"
  },
  "language_info": {
   "codemirror_mode": {
    "name": "ipython",
    "version": 3
   },
   "file_extension": ".py",
   "mimetype": "text/x-python",
   "name": "python",
   "nbconvert_exporter": "python",
   "pygments_lexer": "ipython3",
   "version": "3.9.13"
  }
 },
 "nbformat": 4,
 "nbformat_minor": 5
}
